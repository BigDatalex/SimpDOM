{
 "cells": [
  {
   "cell_type": "code",
   "execution_count": null,
   "metadata": {
    "scrolled": true
   },
   "outputs": [],
   "source": [
    "#n permutations of train and validation sets for average PR results.\n",
    "from train_and_eval import train, test\n",
    "import random\n",
    "import pickle\n",
    "websites = ['auto-aol','auto-yahoo']#['auto-aol','auto-yahoo','auto-motortrend','auto-autobytel', 'auto-msn' ]\n",
    "attributes = ['model', 'price', 'engine', 'fuel_economy']\n",
    "n=1\n",
    "list_avg_pr = []\n",
    "for itr in range(n):\n",
    "    random.shuffle(websites)\n",
    "    print(itr, websites)\n",
    "    val_websites, charDict, tagDict, model, n_classes = train(websites, attributes)\n",
    "    avg_pr_dict = test(val_websites, charDict, tagDict, model, n_classes)\n",
    "    print(avg_pr_dict)\n",
    "    list_avg_pr.append(avg_pr_dict)\n",
    "    pickle.dump(list_avg_pr, open('./list_avg_pr.pkl', 'wb'))\n",
    "    \n",
    "    "
   ]
  },
  {
   "cell_type": "code",
   "execution_count": null,
   "metadata": {},
   "outputs": [],
   "source": []
  },
  {
   "cell_type": "code",
   "execution_count": null,
   "metadata": {},
   "outputs": [],
   "source": [
    "# To Create the training data for other verticals."
   ]
  },
  {
   "cell_type": "code",
   "execution_count": null,
   "metadata": {},
   "outputs": [],
   "source": [
    "import pandas as pd\n",
    "import pickle\n",
    "import numpy\n",
    "import os\n",
    "from Utils.DOMTree import DOMTree"
   ]
  },
  {
   "cell_type": "code",
   "execution_count": null,
   "metadata": {},
   "outputs": [],
   "source": [
    "Datapath = './data' #directory path where each vertical's html pages from SWDE dataset (website wise folders)\n",
    "vertical = 'auto'\n"
   ]
  },
  {
   "cell_type": "code",
   "execution_count": null,
   "metadata": {},
   "outputs": [],
   "source": [
    "#dataset processor: to find the set of fixed nodes for each of the websites\n",
    "from DatasetCreation.storeFixedNodes import main\n",
    "main(Datapath, vertical)\n"
   ]
  },
  {
   "cell_type": "code",
   "execution_count": null,
   "metadata": {
    "scrolled": true
   },
   "outputs": [],
   "source": [
    "#dataset processor: Store each website as pickle file\n",
    "from DatasetCreation.storeAllTextNodes import main\n",
    "main(Datapath, vertical)"
   ]
  },
  {
   "cell_type": "code",
   "execution_count": null,
   "metadata": {
    "scrolled": true
   },
   "outputs": [],
   "source": [
    "#dataset processor: append the friendCircle of each node in the DOMTree\n",
    "from Utils.friendCircleExtractioin import main\n",
    "main(Datapath, vertical, 5)"
   ]
  },
  {
   "cell_type": "code",
   "execution_count": null,
   "metadata": {
    "scrolled": false
   },
   "outputs": [],
   "source": [
    "#dataset processor: associate the ground truth label to each node\n",
    "attributes = ['model', 'manufacturer', 'price']\n",
    "from DatasetCreation.assignGroundTruthToEachNode import main\n",
    "main(Datapath, vertical, attributes)"
   ]
  }
 ],
 "metadata": {
  "kernelspec": {
   "display_name": "Python 3",
   "language": "python",
   "name": "python3"
  },
  "language_info": {
   "codemirror_mode": {
    "name": "ipython",
    "version": 3
   },
   "file_extension": ".py",
   "mimetype": "text/x-python",
   "name": "python",
   "nbconvert_exporter": "python",
   "pygments_lexer": "ipython3",
   "version": "3.7.6"
  }
 },
 "nbformat": 4,
 "nbformat_minor": 4
}
