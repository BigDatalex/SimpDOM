{
 "cells": [
  {
   "cell_type": "code",
   "execution_count": null,
   "metadata": {
    "scrolled": true
   },
   "outputs": [],
   "source": [
    "conda install -c conda-forge pytorch-lightning --yes\n"
   ]
  },
  {
   "cell_type": "code",
   "execution_count": null,
   "metadata": {},
   "outputs": [],
   "source": [
    "import pytorch_lightning as pl\n",
    "from pytorch_lightning.callbacks import ModelCheckpoint\n",
    "import torch\n",
    "import torch.nn as nn\n",
    "from torch.utils.data import DataLoader\n",
    "import pickle\n",
    "import numpy as np\n",
    "import pandas as pd\n",
    "import random\n",
    "from Utils.pretrainedGloVe import pretrainedWordEmeddings\n",
    "from DataLoader.swde_dataLoader import swde_data_test, collate_fn_test\n",
    "from Model.SimpDOM_model import SeqModel\n",
    "from Prediction.test_step import main as get_predictions\n"
   ]
  },
  {
   "cell_type": "code",
   "execution_count": null,
   "metadata": {},
   "outputs": [],
   "source": [
    "# Model Configurations\n",
    "\n",
    "datapath = './data'\n",
    "random.seed(7)\n",
    "device = 'cpu'\n",
    "\n",
    "n_workers=2\n",
    "n_gpus=0\n",
    "char_emb_dim = 16\n",
    "char_hid_dim = 100\n",
    "char_emb_dropout = 0.1\n",
    "\n",
    "tag_emb_dim = 16\n",
    "tag_hid_dim = 30\n",
    "\n",
    "leaf_emb_dim = 30\n",
    "pos_emb_dim = 20\n",
    "word_emb_filename= '{}/glove.6B.100d.txt'.format(datapath)\n",
    "\n",
    "train_websites = ['auto-aol','auto-yahoo','auto-motortrend','auto-autobytel', 'auto-msn', ]\n",
    "val_websites = ['auto-aol','auto-yahoo']\n",
    "attributes = ['model', 'price', 'engine', 'fuel_economy']\n",
    "n_classes = len(attributes)+1\n",
    "class_weights = [1,100,100,100,100]"
   ]
  },
  {
   "cell_type": "code",
   "execution_count": null,
   "metadata": {
    "scrolled": true
   },
   "outputs": [],
   "source": [
    "#Data Loading\n",
    "\n",
    "charDict = pickle.load(open('{}/English_charDict.pkl'.format(datapath),'rb'))\n",
    "tagDict = pickle.load(open('{}/HTMLTagDict.pkl'.format(datapath),'rb'))\n",
    "print(len(charDict), len(tagDict))\n",
    "\n",
    "WordEmeddings = pretrainedWordEmeddings('{}/glove.6B.100d.txt'.format(datapath))\n",
    "test_dataset = DataLoader(dataset = swde_data_test(val_websites, datapath, charDict, \\\n",
    "                                  tagDict, n_gpus, WordEmeddings), num_workers=n_workers, \\\n",
    "                                  batch_size=32, shuffle=False, collate_fn = collate_fn_test)"
   ]
  },
  {
   "cell_type": "code",
   "execution_count": null,
   "metadata": {},
   "outputs": [],
   "source": [
    "checkpoint_callback = ModelCheckpoint(\n",
    "    filename='./data/weights',\n",
    "    save_top_k=1,\n",
    "    save_last = True,\n",
    "    verbose=True,\n",
    "    monitor='val_loss',\n",
    "    mode='min'\n",
    ")\n",
    "\n",
    "config = {\n",
    "    'out_dim': n_classes,\n",
    "    'train_websites': train_websites,\n",
    "    'val_websites': val_websites,\n",
    "    'datapath': datapath,\n",
    "    'n_workers': n_workers,\n",
    "    'charDict' : charDict,\n",
    "    'char_emb_dim' : char_emb_dim,\n",
    "    'char_hid_dim' : char_hid_dim,\n",
    "    'char_emb_dropout' : char_emb_dropout,\n",
    "    'tagDict': tagDict,\n",
    "    'tag_emb_dim': tag_emb_dim,\n",
    "    'tag_hid_dim': tag_hid_dim,\n",
    "    'leaf_emb_dim': leaf_emb_dim,\n",
    "    'pos_emb_dim': pos_emb_dim,\n",
    "    'attributes': attributes,\n",
    "    'n_gpus' : n_gpus,\n",
    "    'class_weights':class_weights,\n",
    "    'word_emb_filename': word_emb_filename\n",
    "}"
   ]
  },
  {
   "cell_type": "code",
   "execution_count": null,
   "metadata": {
    "scrolled": true
   },
   "outputs": [],
   "source": [
    "model = SeqModel.load_from_checkpoint('{}/weights.ckpt'.format(datapath), config=config)\n",
    "model = model.eval()\n"
   ]
  },
  {
   "cell_type": "code",
   "execution_count": null,
   "metadata": {
    "scrolled": true
   },
   "outputs": [],
   "source": [
    "model = model.to(device)\n",
    "df = get_predictions(test_dataset, model,device, 0.6)\n",
    "\n"
   ]
  },
  {
   "cell_type": "code",
   "execution_count": null,
   "metadata": {},
   "outputs": [],
   "source": [
    "from Prediction.PRSummary import cal_PR_summary\n",
    "avg_prf1_dict = cal_PR_summary(df, n_classes)\n",
    "\n",
    "from Prediction.WebsiteLevel_PR_Generator import cal_PR_summary as websiteLevel_cal_PR_summary\n",
    "pr_summary_df, pr_results_df = websiteLevel_cal_PR_summary(df, n_classes)\n",
    "print(pr_results_df)"
   ]
  }
 ],
 "metadata": {
  "kernelspec": {
   "display_name": "Python 3",
   "language": "python",
   "name": "python3"
  },
  "language_info": {
   "codemirror_mode": {
    "name": "ipython",
    "version": 3
   },
   "file_extension": ".py",
   "mimetype": "text/x-python",
   "name": "python",
   "nbconvert_exporter": "python",
   "pygments_lexer": "ipython3",
   "version": "3.7.6"
  }
 },
 "nbformat": 4,
 "nbformat_minor": 4
}
